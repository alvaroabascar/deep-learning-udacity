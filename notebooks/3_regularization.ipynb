{
 "cells": [
  {
   "cell_type": "markdown",
   "metadata": {
    "colab_type": "text",
    "id": "kR-4eNdK6lYS"
   },
   "source": [
    "Deep Learning\n",
    "=============\n",
    "\n",
    "Assignment 3\n",
    "------------\n",
    "\n",
    "Previously in `2_fullyconnected.ipynb`, you trained a logistic regression and a neural network model.\n",
    "\n",
    "The goal of this assignment is to explore regularization techniques."
   ]
  },
  {
   "cell_type": "code",
   "execution_count": 1,
   "metadata": {
    "cellView": "both",
    "colab": {
     "autoexec": {
      "startup": false,
      "wait_interval": 0
     }
    },
    "colab_type": "code",
    "id": "JLpLa8Jt7Vu4"
   },
   "outputs": [
    {
     "name": "stderr",
     "output_type": "stream",
     "text": [
      "/home/alvaro/.local/lib/python3.6/site-packages/h5py/__init__.py:36: FutureWarning: Conversion of the second argument of issubdtype from `float` to `np.floating` is deprecated. In future, it will be treated as `np.float64 == np.dtype(float).type`.\n",
      "  from ._conv import register_converters as _register_converters\n"
     ]
    }
   ],
   "source": [
    "# These are all the modules we'll be using later. Make sure you can import them\n",
    "# before proceeding further.\n",
    "from __future__ import print_function\n",
    "import numpy as np\n",
    "import tensorflow as tf\n",
    "from six.moves import cPickle as pickle"
   ]
  },
  {
   "cell_type": "markdown",
   "metadata": {
    "colab_type": "text",
    "id": "1HrCK6e17WzV"
   },
   "source": [
    "First reload the data we generated in `1_notmnist.ipynb`."
   ]
  },
  {
   "cell_type": "code",
   "execution_count": 2,
   "metadata": {
    "cellView": "both",
    "colab": {
     "autoexec": {
      "startup": false,
      "wait_interval": 0
     },
     "output_extras": [
      {
       "item_id": 1
      }
     ]
    },
    "colab_type": "code",
    "executionInfo": {
     "elapsed": 11777,
     "status": "ok",
     "timestamp": 1449849322348,
     "user": {
      "color": "",
      "displayName": "",
      "isAnonymous": false,
      "isMe": true,
      "permissionId": "",
      "photoUrl": "",
      "sessionId": "0",
      "userId": ""
     },
     "user_tz": 480
    },
    "id": "y3-cj1bpmuxc",
    "outputId": "e03576f1-ebbe-4838-c388-f1777bcc9873"
   },
   "outputs": [
    {
     "name": "stdout",
     "output_type": "stream",
     "text": [
      "Training set (200000, 28, 28) (200000,)\n",
      "Validation set (10000, 28, 28) (10000,)\n",
      "Test set (10000, 28, 28) (10000,)\n"
     ]
    }
   ],
   "source": [
    "pickle_file = 'notMNIST.pickle'\n",
    "\n",
    "with open(pickle_file, 'rb') as f:\n",
    "  save = pickle.load(f)\n",
    "  train_dataset = save['train_dataset']\n",
    "  train_labels = save['train_labels']\n",
    "  valid_dataset = save['valid_dataset']\n",
    "  valid_labels = save['valid_labels']\n",
    "  test_dataset = save['test_dataset']\n",
    "  test_labels = save['test_labels']\n",
    "  del save  # hint to help gc free up memory\n",
    "  print('Training set', train_dataset.shape, train_labels.shape)\n",
    "  print('Validation set', valid_dataset.shape, valid_labels.shape)\n",
    "  print('Test set', test_dataset.shape, test_labels.shape)"
   ]
  },
  {
   "cell_type": "markdown",
   "metadata": {
    "colab_type": "text",
    "id": "L7aHrm6nGDMB"
   },
   "source": [
    "Reformat into a shape that's more adapted to the models we're going to train:\n",
    "- data as a flat matrix,\n",
    "- labels as float 1-hot encodings."
   ]
  },
  {
   "cell_type": "code",
   "execution_count": 3,
   "metadata": {
    "cellView": "both",
    "colab": {
     "autoexec": {
      "startup": false,
      "wait_interval": 0
     },
     "output_extras": [
      {
       "item_id": 1
      }
     ]
    },
    "colab_type": "code",
    "executionInfo": {
     "elapsed": 11728,
     "status": "ok",
     "timestamp": 1449849322356,
     "user": {
      "color": "",
      "displayName": "",
      "isAnonymous": false,
      "isMe": true,
      "permissionId": "",
      "photoUrl": "",
      "sessionId": "0",
      "userId": ""
     },
     "user_tz": 480
    },
    "id": "IRSyYiIIGIzS",
    "outputId": "3f8996ee-3574-4f44-c953-5c8a04636582"
   },
   "outputs": [
    {
     "name": "stdout",
     "output_type": "stream",
     "text": [
      "Training set (200000, 784) (200000, 10)\n",
      "Validation set (10000, 784) (10000, 10)\n",
      "Test set (10000, 784) (10000, 10)\n"
     ]
    }
   ],
   "source": [
    "image_size = 28\n",
    "num_labels = 10\n",
    "\n",
    "def reformat(dataset, labels):\n",
    "  dataset = dataset.reshape((-1, image_size * image_size)).astype(np.float32)\n",
    "  # Map 1 to [0.0, 1.0, 0.0 ...], 2 to [0.0, 0.0, 1.0 ...]\n",
    "  labels = (np.arange(num_labels) == labels[:,None]).astype(np.float32)\n",
    "  return dataset, labels\n",
    "train_dataset, train_labels = reformat(train_dataset, train_labels)\n",
    "valid_dataset, valid_labels = reformat(valid_dataset, valid_labels)\n",
    "test_dataset, test_labels = reformat(test_dataset, test_labels)\n",
    "print('Training set', train_dataset.shape, train_labels.shape)\n",
    "print('Validation set', valid_dataset.shape, valid_labels.shape)\n",
    "print('Test set', test_dataset.shape, test_labels.shape)"
   ]
  },
  {
   "cell_type": "code",
   "execution_count": 4,
   "metadata": {
    "cellView": "both",
    "colab": {
     "autoexec": {
      "startup": false,
      "wait_interval": 0
     }
    },
    "colab_type": "code",
    "id": "RajPLaL_ZW6w"
   },
   "outputs": [],
   "source": [
    "def accuracy(predictions, labels):\n",
    "  return (100.0 * np.sum(np.argmax(predictions, 1) == np.argmax(labels, 1))\n",
    "          / predictions.shape[0])"
   ]
  },
  {
   "cell_type": "markdown",
   "metadata": {
    "colab_type": "text",
    "id": "sgLbUAQ1CW-1"
   },
   "source": [
    "---\n",
    "Problem 1\n",
    "---------\n",
    "\n",
    "Introduce and tune L2 regularization for both logistic and neural network models. Remember that L2 amounts to adding a penalty on the norm of the weights to the loss. In TensorFlow, you can compute the L2 loss for a tensor `t` using `nn.l2_loss(t)`. The right amount of regularization should improve your validation / test accuracy.\n",
    "\n",
    "---"
   ]
  },
  {
   "cell_type": "markdown",
   "metadata": {},
   "source": [
    "### L2 regularization on a logistic model"
   ]
  },
  {
   "cell_type": "markdown",
   "metadata": {},
   "source": [
    "#### Model definition"
   ]
  },
  {
   "cell_type": "code",
   "execution_count": 21,
   "metadata": {},
   "outputs": [],
   "source": [
    "batch_size = 128\n",
    "\n",
    "graph = tf.Graph()\n",
    "with graph.as_default():\n",
    "    # Input data\n",
    "    tf_train_dataset = tf.placeholder(tf.float32,\n",
    "                                     shape=(batch_size, image_size*image_size))\n",
    "    tf_train_labels = tf.placeholder(tf.float32, shape=(batch_size, num_labels))\n",
    "    tf_valid_dataset = tf.constant(valid_dataset)\n",
    "    tf_valid_labels = tf.constant(valid_labels)\n",
    "    \n",
    "    # model definition\n",
    "    weights = tf.Variable(\n",
    "        tf.truncated_normal([image_size*image_size, num_labels])\n",
    "    )\n",
    "    biases = tf.Variable(tf.zeros([num_labels]))\n",
    "    \n",
    "    outputs_train = tf.nn.softmax(tf.matmul(tf_train_dataset, weights) + biases)\n",
    "    \n",
    "    loss = tf.reduce_mean(\n",
    "        tf.nn.softmax_cross_entropy_with_logits(labels=tf_train_labels, logits=outputs_train)\n",
    "    ) + 0.0005*tf.nn.l2_loss(weights)\n",
    "    \n",
    "    # optimizer\n",
    "    optimizer = tf.train.GradientDescentOptimizer(0.5).minimize(loss)\n",
    "    \n",
    "    prediction_valid = tf.nn.softmax(tf.matmul(tf_valid_dataset, weights) + biases)\n",
    "    prediction_train = tf.nn.softmax(tf.matmul(tf_train_dataset, weights) + biases)"
   ]
  },
  {
   "cell_type": "markdown",
   "metadata": {},
   "source": [
    "#### Run"
   ]
  },
  {
   "cell_type": "code",
   "execution_count": 23,
   "metadata": {},
   "outputs": [
    {
     "name": "stdout",
     "output_type": "stream",
     "text": [
      "\n",
      "Train loss at step 0: 3.81\n",
      "Train acc at step 0: 13.28%\n",
      "Valid acc at step 0: 11.71%\n",
      "\n",
      "Train loss at step 1000: 2.59\n",
      "Train acc at step 1000: 78.91%\n",
      "Valid acc at step 1000: 73.61%\n",
      "\n",
      "Train loss at step 2000: 2.26\n",
      "Train acc at step 2000: 75.78%\n",
      "Valid acc at step 2000: 78.97%\n",
      "\n",
      "Train loss at step 3000: 2.02\n",
      "Train acc at step 3000: 77.34%\n",
      "Valid acc at step 3000: 81.07%\n",
      "\n",
      "Train loss at step 4000: 1.85\n",
      "Train acc at step 4000: 82.81%\n",
      "Valid acc at step 4000: 82.31%\n",
      "\n",
      "Train loss at step 5000: 1.72\n",
      "Train acc at step 5000: 90.62%\n",
      "Valid acc at step 5000: 83.01%\n",
      "\n",
      "Train loss at step 6000: 1.76\n",
      "Train acc at step 6000: 78.91%\n",
      "Valid acc at step 6000: 83.60%\n",
      "\n",
      "Train loss at step 7000: 1.70\n",
      "Train acc at step 7000: 81.25%\n",
      "Valid acc at step 7000: 83.68%\n",
      "\n",
      "Train loss at step 8000: 1.66\n",
      "Train acc at step 8000: 84.38%\n",
      "Valid acc at step 8000: 83.91%\n"
     ]
    }
   ],
   "source": [
    "num_steps = 8001\n",
    "\n",
    "with tf.Session(graph=graph) as session:\n",
    "    tf.global_variables_initializer().run()\n",
    "    for step in range(num_steps):\n",
    "        offset = step*batch_size % (train_dataset.shape[0] - batch_size)\n",
    "        batch_data = train_dataset[offset:offset + batch_size, :]\n",
    "        batch_labels = train_labels[offset:offset + batch_size, :]\n",
    "        feed_dict = {\n",
    "            tf_train_dataset: batch_data,\n",
    "            tf_train_labels: batch_labels\n",
    "        }\n",
    "        _, l, predictions = session.run(\n",
    "            [optimizer, loss, prediction_train],\n",
    "            feed_dict=feed_dict\n",
    "        )\n",
    "        if step % 1000:\n",
    "            continue\n",
    "        print('\\nTrain loss at step {}: {:.2f}'.format(step, l))\n",
    "        print('Train acc at step {}: {:.2f}%'.format(step, accuracy(predictions, batch_labels)))\n",
    "        print('Valid acc at step {}: {:.2f}%'.format(step, accuracy(prediction_valid.eval(), valid_labels)))"
   ]
  },
  {
   "cell_type": "markdown",
   "metadata": {},
   "source": [
    "### L2 regularization on neural net"
   ]
  },
  {
   "cell_type": "code",
   "execution_count": 48,
   "metadata": {},
   "outputs": [],
   "source": [
    "batch_size = 128\n",
    "n_hidden_neurons = 1024\n",
    "\n",
    "graph_nn = tf.Graph()\n",
    "\n",
    "with graph_nn.as_default():\n",
    "    \n",
    "    # input\n",
    "    tf_train_data = tf.placeholder(tf.float32, [batch_size, image_size*image_size])\n",
    "    tf_train_labels = tf.placeholder(tf.float32, [batch_size, num_labels])\n",
    "    tf_valid_data = tf.constant(valid_dataset)\n",
    "    tf_valid_labels = tf.constant(valid_labels)\n",
    "    \n",
    "    # model\n",
    "    weights_l1 = tf.Variable(\n",
    "        tf.truncated_normal([image_size*image_size, n_hidden_neurons])\n",
    "    )\n",
    "    biases_l1 = tf.Variable(tf.zeros([n_hidden_neurons]))\n",
    "    \n",
    "    weights_l2 = tf.Variable(\n",
    "        tf.truncated_normal([n_hidden_neurons, num_labels])\n",
    "    )\n",
    "    biases_l2 = tf.Variable(tf.zeros([num_labels]))\n",
    "    \n",
    "    output_l1 = tf.nn.relu(tf.matmul(tf_train_data, weights_l1) + biases_l1)\n",
    "    output_l2 = tf.matmul(output_l1, weights_l2) + biases_l2\n",
    "    prediction_mini_batch = tf.nn.softmax(output_l2)\n",
    "    \n",
    "    loss = tf.reduce_mean(\n",
    "        tf.nn.softmax_cross_entropy_with_logits(logits=output_l2,\n",
    "                                                labels=tf_train_labels)) +\\\n",
    "        0.0001*(tf.nn.l2_loss(weights_l1) + tf.nn.l2_loss(weights_l2))\n",
    "    \n",
    "    # optimization (SGD)\n",
    "    sgd = tf.train.GradientDescentOptimizer(0.5).minimize(loss)\n",
    "    \n",
    "    # calc validation\n",
    "    output_l1_valid = tf.nn.relu(tf.matmul(tf_valid_data, weights_l1) + biases_l1)\n",
    "    output_l2_valid = tf.nn.softmax(tf.matmul(output_l1_valid, weights_l2) + biases_l2)"
   ]
  },
  {
   "cell_type": "code",
   "execution_count": 49,
   "metadata": {},
   "outputs": [
    {
     "name": "stdout",
     "output_type": "stream",
     "text": [
      "\n",
      "Step 0\n",
      "Loss: 437.41\n",
      "Minibatch accuracy: 6.25%\n",
      "Validation accuracy: 36.22%\n",
      "\n",
      "Step 1000\n",
      "Loss: 32.86\n",
      "Minibatch accuracy: 84.38%\n",
      "Validation accuracy: 81.54%\n",
      "\n",
      "Step 2000\n",
      "Loss: 31.74\n",
      "Minibatch accuracy: 78.12%\n",
      "Validation accuracy: 81.68%\n",
      "\n",
      "Step 3000\n",
      "Loss: 27.75\n",
      "Minibatch accuracy: 78.12%\n",
      "Validation accuracy: 81.98%\n",
      "\n",
      "Step 4000\n",
      "Loss: 21.20\n",
      "Minibatch accuracy: 88.28%\n",
      "Validation accuracy: 82.99%\n",
      "\n",
      "Step 5000\n",
      "Loss: 18.91\n",
      "Minibatch accuracy: 84.38%\n",
      "Validation accuracy: 83.87%\n",
      "\n",
      "Step 6000\n",
      "Loss: 17.23\n",
      "Minibatch accuracy: 86.72%\n",
      "Validation accuracy: 82.68%\n",
      "\n",
      "Step 7000\n",
      "Loss: 15.66\n",
      "Minibatch accuracy: 85.16%\n",
      "Validation accuracy: 84.16%\n",
      "\n",
      "Step 8000\n",
      "Loss: 13.54\n",
      "Minibatch accuracy: 91.41%\n",
      "Validation accuracy: 85.20%\n"
     ]
    }
   ],
   "source": [
    "num_steps = 8001\n",
    "batch_size = 128\n",
    "\n",
    "with tf.Session(graph=graph_nn) as session:\n",
    "    tf.global_variables_initializer().run()\n",
    "    for step in range(num_steps):\n",
    "        offset = step*batch_size % (train_dataset.shape[0] - batch_size)\n",
    "        batch_data = train_dataset[offset:offset + batch_size]\n",
    "        batch_labels = train_labels[offset:offset + batch_size]\n",
    "        feed_dict = {\n",
    "            tf_train_data: batch_data,\n",
    "            tf_train_labels: batch_labels\n",
    "        }\n",
    "        _, l, prediction_train = session.run([sgd, loss, prediction_mini_batch], feed_dict=feed_dict)\n",
    "        \n",
    "        if step % 1000:\n",
    "            continue\n",
    "            \n",
    "        print('\\nStep {}'.format(step))\n",
    "        print('Loss: {:.2f}'.format(l))\n",
    "        print('Minibatch accuracy: {:.2f}%'.format(accuracy(prediction_train, batch_labels)))\n",
    "        print('Validation accuracy: {:.2f}%'.format(accuracy(output_l2_valid.eval(), valid_labels)))"
   ]
  },
  {
   "cell_type": "markdown",
   "metadata": {
    "colab_type": "text",
    "id": "na8xX2yHZzNF"
   },
   "source": [
    "---\n",
    "Problem 2\n",
    "---------\n",
    "Let's demonstrate an extreme case of overfitting. Restrict your training data to just a few batches. What happens?\n",
    "\n",
    "---"
   ]
  },
  {
   "cell_type": "markdown",
   "metadata": {},
   "source": [
    "#### Let's see what happens if we restrict the dataset to 1280 cases, with no regularization (lamda=0)"
   ]
  },
  {
   "cell_type": "code",
   "execution_count": 67,
   "metadata": {},
   "outputs": [
    {
     "name": "stdout",
     "output_type": "stream",
     "text": [
      "\n",
      "Step 0\n",
      "Loss: 416.04\n",
      "Minibatch accuracy: 5.47%\n",
      "Validation accuracy: 35.08%\n",
      "\n",
      "Step 1000\n",
      "Loss: 0.00\n",
      "Minibatch accuracy: 100.00%\n",
      "Validation accuracy: 77.43%\n",
      "\n",
      "Step 2000\n",
      "Loss: 0.00\n",
      "Minibatch accuracy: 100.00%\n",
      "Validation accuracy: 77.25%\n",
      "\n",
      "Step 3000\n",
      "Loss: 0.00\n",
      "Minibatch accuracy: 100.00%\n",
      "Validation accuracy: 77.19%\n",
      "\n",
      "Step 4000\n",
      "Loss: 0.03\n",
      "Minibatch accuracy: 99.22%\n",
      "Validation accuracy: 77.00%\n",
      "\n",
      "Step 5000\n",
      "Loss: 0.05\n",
      "Minibatch accuracy: 99.22%\n",
      "Validation accuracy: 75.96%\n",
      "\n",
      "Step 6000\n",
      "Loss: 0.00\n",
      "Minibatch accuracy: 100.00%\n",
      "Validation accuracy: 76.93%\n",
      "\n",
      "Step 7000\n",
      "Loss: 0.00\n",
      "Minibatch accuracy: 100.00%\n",
      "Validation accuracy: 76.88%\n",
      "\n",
      "Step 8000\n",
      "Loss: 0.00\n",
      "Minibatch accuracy: 100.00%\n",
      "Validation accuracy: 76.85%\n"
     ]
    }
   ],
   "source": [
    "batch_size = 128\n",
    "n_hidden_neurons = 1024\n",
    "\n",
    "graph_nn = tf.Graph()\n",
    "\n",
    "with graph_nn.as_default():\n",
    "    \n",
    "    # input\n",
    "    tf_train_data = tf.placeholder(tf.float32, [batch_size, image_size*image_size])\n",
    "    tf_train_labels = tf.placeholder(tf.float32, [batch_size, num_labels])\n",
    "    tf_valid_data = tf.constant(valid_dataset)\n",
    "    tf_valid_labels = tf.constant(valid_labels)\n",
    "    \n",
    "    # model\n",
    "    weights_l1 = tf.Variable(\n",
    "        tf.truncated_normal([image_size*image_size, n_hidden_neurons])\n",
    "    )\n",
    "    biases_l1 = tf.Variable(tf.zeros([n_hidden_neurons]))\n",
    "    \n",
    "    weights_l2 = tf.Variable(\n",
    "        tf.truncated_normal([n_hidden_neurons, num_labels])\n",
    "    )\n",
    "    biases_l2 = tf.Variable(tf.zeros([num_labels]))\n",
    "    \n",
    "    output_l1 = tf.nn.relu(tf.matmul(tf_train_data, weights_l1) + biases_l1)\n",
    "    output_l2 = tf.matmul(output_l1, weights_l2) + biases_l2\n",
    "    prediction_mini_batch = tf.nn.softmax(output_l2)\n",
    "    \n",
    "    loss = tf.reduce_mean(\n",
    "        tf.nn.softmax_cross_entropy_with_logits(logits=output_l2,\n",
    "                                                labels=tf_train_labels)) +\\\n",
    "        0*(tf.nn.l2_loss(weights_l1) + tf.nn.l2_loss(weights_l2))\n",
    "    \n",
    "    # optimization (SGD)\n",
    "    sgd = tf.train.GradientDescentOptimizer(0.5).minimize(loss)\n",
    "    \n",
    "    # calc validation\n",
    "    output_l1_valid = tf.nn.relu(tf.matmul(tf_valid_data, weights_l1) + biases_l1)\n",
    "    output_l2_valid = tf.nn.softmax(tf.matmul(output_l1_valid, weights_l2) + biases_l2)\n",
    "\n",
    "num_steps = 8001\n",
    "batch_size = 128\n",
    "\n",
    "with tf.Session(graph=graph_nn) as session:\n",
    "    tf.global_variables_initializer().run()\n",
    "    for step in range(num_steps):\n",
    "        offset = step*batch_size % (train_dataset[:1280, :].shape[0] - batch_size)\n",
    "        batch_data = train_dataset[:1280, :][offset:offset + batch_size]\n",
    "        batch_labels = train_labels[:1280, :][offset:offset + batch_size]\n",
    "        feed_dict = {\n",
    "            tf_train_data: batch_data,\n",
    "            tf_train_labels: batch_labels\n",
    "        }\n",
    "        _, l, prediction_train = session.run([sgd, loss, prediction_mini_batch], feed_dict=feed_dict)\n",
    "        \n",
    "        if step % 1000:\n",
    "            continue\n",
    "            \n",
    "        print('\\nStep {}'.format(step))\n",
    "        print('Loss: {:.2f}'.format(l))\n",
    "        print('Minibatch accuracy: {:.2f}%'.format(accuracy(prediction_train, batch_labels)))\n",
    "        print('Validation accuracy: {:.2f}%'.format(accuracy(output_l2_valid.eval(), valid_labels)))"
   ]
  },
  {
   "cell_type": "markdown",
   "metadata": {},
   "source": [
    "As we can see, we reach 100% accuracy in the train data, but less than 77% in the validation set. This gap reflects the overfitting."
   ]
  },
  {
   "cell_type": "code",
   "execution_count": 71,
   "metadata": {},
   "outputs": [
    {
     "name": "stdout",
     "output_type": "stream",
     "text": [
      "\n",
      "Step 0\n",
      "Loss: 16028.98\n",
      "Minibatch accuracy: 5.47%\n",
      "Validation accuracy: 30.90%\n",
      "\n",
      "Step 1000\n",
      "Loss: 1.00\n",
      "Minibatch accuracy: 88.28%\n",
      "Validation accuracy: 80.76%\n",
      "\n",
      "Step 2000\n",
      "Loss: 1.12\n",
      "Minibatch accuracy: 81.25%\n",
      "Validation accuracy: 79.20%\n",
      "\n",
      "Step 3000\n",
      "Loss: 0.98\n",
      "Minibatch accuracy: 87.50%\n",
      "Validation accuracy: 78.99%\n",
      "\n",
      "Step 4000\n",
      "Loss: 1.17\n",
      "Minibatch accuracy: 79.69%\n",
      "Validation accuracy: 79.74%\n",
      "\n",
      "Step 5000\n",
      "Loss: 1.09\n",
      "Minibatch accuracy: 83.59%\n",
      "Validation accuracy: 80.23%\n",
      "\n",
      "Step 6000\n",
      "Loss: 0.96\n",
      "Minibatch accuracy: 89.06%\n",
      "Validation accuracy: 79.64%\n",
      "\n",
      "Step 7000\n",
      "Loss: 1.04\n",
      "Minibatch accuracy: 85.16%\n",
      "Validation accuracy: 80.16%\n",
      "\n",
      "Step 8000\n",
      "Loss: 1.01\n",
      "Minibatch accuracy: 85.94%\n",
      "Validation accuracy: 79.72%\n"
     ]
    }
   ],
   "source": [
    "batch_size = 128\n",
    "n_hidden_neurons = 1024\n",
    "\n",
    "graph_nn = tf.Graph()\n",
    "\n",
    "with graph_nn.as_default():\n",
    "    \n",
    "    # input\n",
    "    tf_train_data = tf.placeholder(tf.float32, [batch_size, image_size*image_size])\n",
    "    tf_train_labels = tf.placeholder(tf.float32, [batch_size, num_labels])\n",
    "    tf_valid_data = tf.constant(valid_dataset)\n",
    "    tf_valid_labels = tf.constant(valid_labels)\n",
    "    \n",
    "    # model\n",
    "    weights_l1 = tf.Variable(\n",
    "        tf.truncated_normal([image_size*image_size, n_hidden_neurons])\n",
    "    )\n",
    "    biases_l1 = tf.Variable(tf.zeros([n_hidden_neurons]))\n",
    "    \n",
    "    weights_l2 = tf.Variable(\n",
    "        tf.truncated_normal([n_hidden_neurons, num_labels])\n",
    "    )\n",
    "    biases_l2 = tf.Variable(tf.zeros([num_labels]))\n",
    "    \n",
    "    output_l1 = tf.nn.relu(tf.matmul(tf_train_data, weights_l1) + biases_l1)\n",
    "    output_l2 = tf.matmul(output_l1, weights_l2) + biases_l2\n",
    "    prediction_mini_batch = tf.nn.softmax(output_l2)\n",
    "    \n",
    "    loss = tf.reduce_mean(\n",
    "        tf.nn.softmax_cross_entropy_with_logits(logits=output_l2,\n",
    "                                                labels=tf_train_labels)) +\\\n",
    "        0.05*(tf.nn.l2_loss(weights_l1) + tf.nn.l2_loss(weights_l2))\n",
    "    \n",
    "    # optimization (SGD)\n",
    "    sgd = tf.train.GradientDescentOptimizer(0.5).minimize(loss)\n",
    "    \n",
    "    # calc validation\n",
    "    output_l1_valid = tf.nn.relu(tf.matmul(tf_valid_data, weights_l1) + biases_l1)\n",
    "    output_l2_valid = tf.nn.softmax(tf.matmul(output_l1_valid, weights_l2) + biases_l2)\n",
    "\n",
    "num_steps = 8001\n",
    "batch_size = 128\n",
    "\n",
    "with tf.Session(graph=graph_nn) as session:\n",
    "    tf.global_variables_initializer().run()\n",
    "    for step in range(num_steps):\n",
    "        offset = step*batch_size % (train_dataset[:1280, :].shape[0] - batch_size)\n",
    "        batch_data = train_dataset[:1280, :][offset:offset + batch_size]\n",
    "        batch_labels = train_labels[:1280, :][offset:offset + batch_size]\n",
    "        feed_dict = {\n",
    "            tf_train_data: batch_data,\n",
    "            tf_train_labels: batch_labels\n",
    "        }\n",
    "        _, l, prediction_train = session.run([sgd, loss, prediction_mini_batch], feed_dict=feed_dict)\n",
    "        \n",
    "        if step % 1000:\n",
    "            continue\n",
    "            \n",
    "        print('\\nStep {}'.format(step))\n",
    "        print('Loss: {:.2f}'.format(l))\n",
    "        print('Minibatch accuracy: {:.2f}%'.format(accuracy(prediction_train, batch_labels)))\n",
    "        print('Validation accuracy: {:.2f}%'.format(accuracy(output_l2_valid.eval(), valid_labels)))"
   ]
  },
  {
   "cell_type": "markdown",
   "metadata": {
    "colab_type": "text",
    "id": "ww3SCBUdlkRc"
   },
   "source": [
    "---\n",
    "Problem 3\n",
    "---------\n",
    "Introduce Dropout on the hidden layer of the neural network. Remember: Dropout should only be introduced during training, not evaluation, otherwise your evaluation results would be stochastic as well. TensorFlow provides `nn.dropout()` for that, but you have to make sure it's only inserted during training.\n",
    "\n",
    "What happens to our extreme overfitting case?\n",
    "\n",
    "---"
   ]
  },
  {
   "cell_type": "code",
   "execution_count": 76,
   "metadata": {},
   "outputs": [
    {
     "name": "stdout",
     "output_type": "stream",
     "text": [
      "\n",
      "Step 0\n",
      "Loss: 648.21\n",
      "Minibatch accuracy: 8.59%\n",
      "Validation accuracy: 35.06%\n",
      "\n",
      "Step 1000\n",
      "Loss: 30.26\n",
      "Minibatch accuracy: 95.31%\n",
      "Validation accuracy: 80.17%\n",
      "\n",
      "Step 2000\n",
      "Loss: 0.00\n",
      "Minibatch accuracy: 100.00%\n",
      "Validation accuracy: 80.67%\n",
      "\n",
      "Step 3000\n",
      "Loss: 13.80\n",
      "Minibatch accuracy: 99.22%\n",
      "Validation accuracy: 80.83%\n",
      "\n",
      "Step 4000\n",
      "Loss: 13.06\n",
      "Minibatch accuracy: 98.44%\n",
      "Validation accuracy: 80.68%\n",
      "\n",
      "Step 5000\n",
      "Loss: 2.53\n",
      "Minibatch accuracy: 98.44%\n",
      "Validation accuracy: 80.91%\n",
      "\n",
      "Step 6000\n",
      "Loss: 0.00\n",
      "Minibatch accuracy: 100.00%\n",
      "Validation accuracy: 80.92%\n",
      "\n",
      "Step 7000\n",
      "Loss: 0.00\n",
      "Minibatch accuracy: 100.00%\n",
      "Validation accuracy: 80.74%\n",
      "\n",
      "Step 8000\n",
      "Loss: 1.65\n",
      "Minibatch accuracy: 97.66%\n",
      "Validation accuracy: 81.14%\n"
     ]
    }
   ],
   "source": [
    "batch_size = 128\n",
    "n_hidden_neurons = 1024\n",
    "\n",
    "graph_nn = tf.Graph()\n",
    "\n",
    "with graph_nn.as_default():\n",
    "    \n",
    "    # input\n",
    "    tf_train_data = tf.placeholder(tf.float32, [batch_size, image_size*image_size])\n",
    "    tf_train_labels = tf.placeholder(tf.float32, [batch_size, num_labels])\n",
    "    tf_valid_data = tf.constant(valid_dataset)\n",
    "    tf_valid_labels = tf.constant(valid_labels)\n",
    "    \n",
    "    # model\n",
    "    weights_l1 = tf.Variable(\n",
    "        tf.truncated_normal([image_size*image_size, n_hidden_neurons])\n",
    "    )\n",
    "    biases_l1 = tf.Variable(tf.zeros([n_hidden_neurons]))\n",
    "    \n",
    "    weights_l2 = tf.Variable(\n",
    "        tf.truncated_normal([n_hidden_neurons, num_labels])\n",
    "    )\n",
    "    biases_l2 = tf.Variable(tf.zeros([num_labels]))\n",
    "    \n",
    "    output_l1 = tf.nn.relu(tf.matmul(tf_train_data, weights_l1) + biases_l1)\n",
    "    output_l2 = tf.matmul(tf.nn.dropout(output_l1, keep_prob=0.25), weights_l2) + biases_l2\n",
    "    prediction_mini_batch = tf.nn.softmax(output_l2)\n",
    "    \n",
    "    loss = tf.reduce_mean(\n",
    "        tf.nn.softmax_cross_entropy_with_logits(logits=output_l2,\n",
    "                                                labels=tf_train_labels))    \n",
    "    # optimization (SGD)\n",
    "    sgd = tf.train.GradientDescentOptimizer(0.5).minimize(loss)\n",
    "    \n",
    "    # calc validation\n",
    "    output_l1_valid = tf.nn.relu(tf.matmul(tf_valid_data, weights_l1) + biases_l1)\n",
    "    output_l2_valid = tf.nn.softmax(tf.matmul(output_l1_valid, weights_l2) + biases_l2)\n",
    "\n",
    "num_steps = 8001\n",
    "batch_size = 128\n",
    "\n",
    "with tf.Session(graph=graph_nn) as session:\n",
    "    tf.global_variables_initializer().run()\n",
    "    for step in range(num_steps):\n",
    "        offset = step*batch_size % (train_dataset[:1280, :].shape[0] - batch_size)\n",
    "        batch_data = train_dataset[:1280, :][offset:offset + batch_size]\n",
    "        batch_labels = train_labels[:1280, :][offset:offset + batch_size]\n",
    "        feed_dict = {\n",
    "            tf_train_data: batch_data,\n",
    "            tf_train_labels: batch_labels\n",
    "        }\n",
    "        _, l, prediction_train = session.run([sgd, loss, prediction_mini_batch], feed_dict=feed_dict)\n",
    "        \n",
    "        if step % 1000:\n",
    "            continue\n",
    "            \n",
    "        print('\\nStep {}'.format(step))\n",
    "        print('Loss: {:.2f}'.format(l))\n",
    "        print('Minibatch accuracy: {:.2f}%'.format(accuracy(prediction_train, batch_labels)))\n",
    "        print('Validation accuracy: {:.2f}%'.format(accuracy(output_l2_valid.eval(), valid_labels)))"
   ]
  },
  {
   "cell_type": "markdown",
   "metadata": {
    "colab_type": "text",
    "id": "-b1hTz3VWZjw"
   },
   "source": [
    "---\n",
    "Problem 4\n",
    "---------\n",
    "\n",
    "Try to get the best performance you can using a multi-layer model! The best reported test accuracy using a deep network is [97.1%](http://yaroslavvb.blogspot.com/2011/09/notmnist-dataset.html?showComment=1391023266211#c8758720086795711595).\n",
    "\n",
    "One avenue you can explore is to add multiple layers.\n",
    "\n",
    "Another one is to use learning rate decay:\n",
    "\n",
    "    global_step = tf.Variable(0)  # count the number of steps taken.\n",
    "    learning_rate = tf.train.exponential_decay(0.5, global_step, ...)\n",
    "    optimizer = tf.train.GradientDescentOptimizer(learning_rate).minimize(loss, global_step=global_step)\n",
    " \n",
    " ---\n"
   ]
  },
  {
   "cell_type": "code",
   "execution_count": 18,
   "metadata": {},
   "outputs": [],
   "source": [
    "from matplotlib import pyplot as plt\n",
    "%matplotlib inline"
   ]
  },
  {
   "cell_type": "code",
   "execution_count": 19,
   "metadata": {},
   "outputs": [],
   "source": [
    "import math"
   ]
  },
  {
   "cell_type": "code",
   "execution_count": 129,
   "metadata": {},
   "outputs": [
    {
     "name": "stdout",
     "output_type": "stream",
     "text": [
      "\n",
      "Step 0\n",
      "Loss: 3.33\n",
      "Minibatch accuracy: 7.03%\n",
      "Validation accuracy: 10.00%\n",
      "\n",
      "Step 1000\n",
      "Loss: 0.41\n",
      "Minibatch accuracy: 86.72%\n",
      "Validation accuracy: 86.74%\n",
      "\n",
      "Step 2000\n",
      "Loss: 0.47\n",
      "Minibatch accuracy: 87.50%\n",
      "Validation accuracy: 87.72%\n",
      "\n",
      "Step 3000\n",
      "Loss: 0.43\n",
      "Minibatch accuracy: 85.94%\n",
      "Validation accuracy: 88.17%\n",
      "\n",
      "Step 4000\n",
      "Loss: 0.46\n",
      "Minibatch accuracy: 85.16%\n",
      "Validation accuracy: 88.72%\n",
      "\n",
      "Step 5000\n",
      "Loss: 0.18\n",
      "Minibatch accuracy: 95.31%\n",
      "Validation accuracy: 89.62%\n",
      "\n",
      "Step 6000\n",
      "Loss: 0.35\n",
      "Minibatch accuracy: 89.06%\n",
      "Validation accuracy: 89.47%\n",
      "\n",
      "Step 7000\n",
      "Loss: 0.27\n",
      "Minibatch accuracy: 91.41%\n",
      "Validation accuracy: 89.35%\n",
      "\n",
      "Step 8000\n",
      "Loss: 0.22\n",
      "Minibatch accuracy: 93.75%\n",
      "Validation accuracy: 89.06%\n"
     ]
    }
   ],
   "source": [
    "batch_size = 128\n",
    "n_hidden_neurons = 1024\n",
    "\n",
    "graph_nn = tf.Graph()\n",
    "\n",
    "with graph_nn.as_default():\n",
    "    \n",
    "    # input\n",
    "    tf_train_data = tf.placeholder(tf.float32, [batch_size, image_size*image_size])\n",
    "    tf_train_labels = tf.placeholder(tf.float32, [batch_size, num_labels])\n",
    "    tf_valid_data = tf.constant(valid_dataset)\n",
    "    tf_valid_labels = tf.constant(valid_labels)\n",
    "    \n",
    "    # model\n",
    "    weights_l1 = tf.Variable(\n",
    "        tf.truncated_normal([image_size*image_size, n_hidden_neurons], mean=0.0,\n",
    "                           stddev=1/image_size)\n",
    "    )\n",
    "    biases_l1 = tf.Variable(tf.truncated_normal([n_hidden_neurons], mean=0.0, stddev=1.0))\n",
    "    \n",
    "    weights_l2 = tf.Variable(\n",
    "        tf.truncated_normal([n_hidden_neurons, num_labels], mean=0.0, stddev=1/math.sqrt(n_hidden_neurons))\n",
    "    )\n",
    "    biases_l2 = tf.Variable(tf.truncated_normal([num_labels], mean=0.0, stddev=1.0))\n",
    "    \n",
    "    output_l1 = tf.nn.relu(tf.matmul(tf_train_data, weights_l1) + biases_l1)\n",
    "    output_l2 = tf.matmul(tf.nn.dropout(output_l1, keep_prob=1), weights_l2) + biases_l2\n",
    "    prediction_mini_batch = tf.nn.softmax(output_l2)\n",
    "    \n",
    "    loss = tf.reduce_mean(\n",
    "        tf.nn.softmax_cross_entropy_with_logits(logits=output_l2,\n",
    "                                                labels=tf_train_labels))    \n",
    "    # optimization (SGD)\n",
    "    # count number of steps taken\n",
    "    global_step = tf.Variable(0)\n",
    "    learning_rate = tf.train.exponential_decay(0.5, global_step, 10000, 0.6, staircase=True)\n",
    "    sgd = tf.train.GradientDescentOptimizer(learning_rate).minimize(loss, global_step=global_step)\n",
    "    \n",
    "    # calc validation\n",
    "    output_l1_valid = tf.nn.relu(tf.matmul(tf_valid_data, weights_l1) + biases_l1)\n",
    "    output_l2_valid = tf.nn.softmax(tf.matmul(output_l1_valid, weights_l2) + biases_l2)\n",
    "\n",
    "num_steps = 8001\n",
    "batch_size = 128\n",
    "\n",
    "accuracies_validation = []\n",
    "accuracies_minibatch = []\n",
    "losses = []\n",
    "\n",
    "with tf.Session(graph=graph_nn) as session:\n",
    "    \n",
    "    tf.global_variables_initializer().run()\n",
    "    \n",
    "    for step in range(num_steps):\n",
    "        offset = step*batch_size % (train_dataset.shape[0] - batch_size)\n",
    "        batch_data = train_dataset[offset:offset + batch_size]\n",
    "        batch_labels = train_labels[offset:offset + batch_size]\n",
    "        feed_dict = {\n",
    "            tf_train_data: batch_data,\n",
    "            tf_train_labels: batch_labels\n",
    "        }\n",
    "        _, l, prediction_train = session.run([sgd, loss, prediction_mini_batch], feed_dict=feed_dict)\n",
    "        \n",
    "        if step % 1000:\n",
    "            continue\n",
    "            \n",
    "        accuracy_minibatch = accuracy(prediction_train, batch_labels)\n",
    "        accuracy_validation = accuracy(output_l2_valid.eval(), valid_labels)\n",
    "        losses.append(l)\n",
    "        accuracies_minibatch.append(accuracy_minibatch)\n",
    "        accuracies_validation.append(accuracy_validation)\n",
    "        print('\\nStep {}'.format(step))\n",
    "        print('Loss: {:.2f}'.format(l))\n",
    "        print('Minibatch accuracy: {:.2f}%'.format(accuracy_minibatch))\n",
    "        print('Validation accuracy: {:.2f}%'.format(accuracy_validation))"
   ]
  },
  {
   "cell_type": "code",
   "execution_count": 130,
   "metadata": {},
   "outputs": [],
   "source": [
    "%matplotlib inline"
   ]
  },
  {
   "cell_type": "code",
   "execution_count": 128,
   "metadata": {},
   "outputs": [
    {
     "data": {
      "text/plain": [
       "[<matplotlib.lines.Line2D at 0x7ff67841e3c8>]"
      ]
     },
     "execution_count": 128,
     "metadata": {},
     "output_type": "execute_result"
    },
    {
     "data": {
      "image/png": "[encoded data removed]",
      "text/plain": [
       "<matplotlib.figure.Figure at 0x7ff6787d1518>"
      ]
     },
     "metadata": {},
     "output_type": "display_data"
    }
   ],
   "source": [
    "fig = plt.figure(figsize=(15, 5))\n",
    "ax = fig.add_subplot(1, 2, 1)\n",
    "ax.plot(accuracies_minibatch, '-ob')\n",
    "ax.plot(accuracies_validation, '-og')\n",
    "ax.legend(['% acc minibatch', '% acc validation'])\n",
    "ax2 = fig.add_subplot(1, 2, 2)\n",
    "ax2.plot(losses)"
   ]
  },
  {
   "cell_type": "markdown",
   "metadata": {},
   "source": [
    "#### Try with more layers"
   ]
  },
  {
   "cell_type": "markdown",
   "metadata": {},
   "source": [
    "- 2 hidden layers\n",
    "- learning rate decay\n",
    "- dropout"
   ]
  },
  {
   "cell_type": "code",
   "execution_count": 36,
   "metadata": {},
   "outputs": [
    {
     "name": "stdout",
     "output_type": "stream",
     "text": [
      "\n",
      "Step 0\n",
      "Learning rate: 0.50\n",
      "Loss: 2.85\n",
      "Minibatch accuracy: 10.94%\n",
      "Validation accuracy: 10.00%\n",
      "\n",
      "Step 1000\n",
      "Learning rate: 0.45\n",
      "Loss: 0.42\n",
      "Minibatch accuracy: 87.50%\n",
      "Validation accuracy: 86.34%\n",
      "\n",
      "Step 2000\n",
      "Learning rate: 0.40\n",
      "Loss: 0.48\n",
      "Minibatch accuracy: 85.94%\n",
      "Validation accuracy: 87.56%\n",
      "\n",
      "Step 3000\n",
      "Learning rate: 0.36\n",
      "Loss: 0.43\n",
      "Minibatch accuracy: 85.16%\n",
      "Validation accuracy: 88.50%\n",
      "\n",
      "Step 4000\n",
      "Learning rate: 0.33\n",
      "Loss: 0.48\n",
      "Minibatch accuracy: 85.16%\n",
      "Validation accuracy: 89.25%\n",
      "\n",
      "Step 5000\n",
      "Learning rate: 0.30\n",
      "Loss: 0.25\n",
      "Minibatch accuracy: 92.19%\n",
      "Validation accuracy: 89.79%\n",
      "\n",
      "Step 6000\n",
      "Learning rate: 0.27\n",
      "Loss: 0.32\n",
      "Minibatch accuracy: 89.84%\n",
      "Validation accuracy: 90.10%\n",
      "\n",
      "Step 7000\n",
      "Learning rate: 0.24\n",
      "Loss: 0.34\n",
      "Minibatch accuracy: 89.84%\n",
      "Validation accuracy: 89.96%\n",
      "\n",
      "Step 8000\n",
      "Learning rate: 0.22\n",
      "Loss: 0.31\n",
      "Minibatch accuracy: 91.41%\n",
      "Validation accuracy: 90.20%\n",
      "\n",
      "Step 9000\n",
      "Learning rate: 0.19\n",
      "Loss: 0.37\n",
      "Minibatch accuracy: 89.06%\n",
      "Validation accuracy: 90.53%\n",
      "\n",
      "Step 10000\n",
      "Learning rate: 0.17\n",
      "Loss: 0.52\n",
      "Minibatch accuracy: 82.81%\n",
      "Validation accuracy: 90.64%\n",
      "\n",
      "Test accuracy: 95.45%\n"
     ]
    }
   ],
   "source": [
    "batch_size = 128\n",
    "n_hidden_neurons = [1024, 1024]\n",
    "\n",
    "graph_nn = tf.Graph()\n",
    "\n",
    "with graph_nn.as_default():\n",
    "    \n",
    "    # input\n",
    "    tf_train_data = tf.placeholder(tf.float32, [batch_size, image_size*image_size])\n",
    "    tf_train_labels = tf.placeholder(tf.float32, [batch_size, num_labels])\n",
    "    tf_valid_data = tf.constant(valid_dataset)\n",
    "    tf_valid_labels = tf.constant(valid_labels)\n",
    "    tf_test_data = tf.constant(test_dataset)\n",
    "    tf_test_labels = tf.constant(test_labels)\n",
    "    \n",
    "    # model\n",
    "    weights_l1 = tf.Variable(\n",
    "        tf.truncated_normal([image_size*image_size, n_hidden_neurons[0]], mean=0.0,\n",
    "                           stddev=1/image_size)\n",
    "    )\n",
    "    biases_l1 = tf.Variable(tf.truncated_normal([n_hidden_neurons[0]], mean=0.0, stddev=1.0))\n",
    "    \n",
    "    weights_l2 = tf.Variable(\n",
    "        tf.truncated_normal(n_hidden_neurons, mean=0.0, stddev=1/math.sqrt(n_hidden_neurons[0]))\n",
    "    )\n",
    "    biases_l2 = tf.Variable(tf.truncated_normal([n_hidden_neurons[1]], mean=0.0, stddev=1.0))\n",
    "    \n",
    "    weights_l3 = tf.Variable(\n",
    "        tf.truncated_normal([n_hidden_neurons[1], num_labels], mean=0.0, stddev=1/math.sqrt(n_hidden_neurons[1]))\n",
    "    )\n",
    "    biases_l3 = tf.Variable(tf.truncated_normal([num_labels], mean=0.0, stddev=1.0))\n",
    "    \n",
    "    keep_prob = 0.75\n",
    "    output_l1 = tf.nn.relu(tf.matmul(tf_train_data, weights_l1) + biases_l1)\n",
    "    output_l2 = tf.nn.relu(tf.matmul(tf.nn.dropout(output_l1, keep_prob=keep_prob), weights_l2) + biases_l2)\n",
    "    output_l3 = tf.matmul(tf.nn.dropout(output_l2, keep_prob=keep_prob), weights_l3) + biases_l3\n",
    "    \n",
    "    prediction_mini_batch = tf.nn.softmax(output_l3)\n",
    "    \n",
    "    loss = tf.reduce_mean(\n",
    "        tf.nn.softmax_cross_entropy_with_logits(logits=output_l3,\n",
    "                                                labels=tf_train_labels))    \n",
    "    # optimization (SGD)\n",
    "    # count number of steps taken\n",
    "    global_step = tf.Variable(0)\n",
    "    learning_rate = tf.train.exponential_decay(0.5, global_step, 1000, 0.9, staircase=True)\n",
    "    sgd = tf.train.GradientDescentOptimizer(learning_rate).minimize(loss, global_step=global_step)\n",
    "    \n",
    "    # calc validation\n",
    "    output_l1_valid = tf.nn.relu(tf.matmul(tf_valid_data, weights_l1) + biases_l1)\n",
    "    output_l2_valid = tf.nn.relu(tf.matmul(output_l1_valid, weights_l2) + biases_l2)\n",
    "    prediction_valid = tf.nn.softmax(tf.matmul(output_l2_valid, weights_l3) + biases_l3)\n",
    "    \n",
    "    output_l1_test = tf.nn.relu(tf.matmul(tf_test_data, weights_l1) + biases_l1)\n",
    "    output_l2_test = tf.nn.relu(tf.matmul(output_l1_test, weights_l2) + biases_l2)\n",
    "    prediction_test = tf.nn.softmax(tf.matmul(output_l2_test, weights_l3) + biases_l3)\n",
    "    \n",
    "num_steps = 10001\n",
    "batch_size = 128\n",
    "\n",
    "accuracies_validation = []\n",
    "accuracies_minibatch = []\n",
    "losses = []\n",
    "\n",
    "with tf.Session(graph=graph_nn) as session:\n",
    "    \n",
    "    tf.global_variables_initializer().run()\n",
    "    \n",
    "    for step in range(num_steps):\n",
    "        offset = step*batch_size % (train_dataset.shape[0] - batch_size)\n",
    "        batch_data = train_dataset[offset:offset + batch_size]\n",
    "        batch_labels = train_labels[offset:offset + batch_size]\n",
    "        feed_dict = {\n",
    "            tf_train_data: batch_data,\n",
    "            tf_train_labels: batch_labels\n",
    "        }\n",
    "        _, l, prediction_train = session.run([sgd, loss, prediction_mini_batch], feed_dict=feed_dict)\n",
    "        \n",
    "        if step % 1000:\n",
    "            continue\n",
    "            \n",
    "        accuracy_minibatch = accuracy(prediction_train, batch_labels)\n",
    "        accuracy_validation = accuracy(prediction_valid.eval(), valid_labels)\n",
    "        losses.append(l)\n",
    "        accuracies_minibatch.append(accuracy_minibatch)\n",
    "        accuracies_validation.append(accuracy_validation)\n",
    "        print('\\nStep {}'.format(step))\n",
    "        print('Learning rate: {:.2f}'.format(learning_rate.eval()))\n",
    "        print('Loss: {:.2f}'.format(l))\n",
    "        print('Minibatch accuracy: {:.2f}%'.format(accuracy_minibatch))\n",
    "        print('Validation accuracy: {:.2f}%'.format(accuracy_validation))\n",
    "    print('\\nTest accuracy: {:.2f}%'.format(accuracy(prediction_test.eval(), test_labels)))"
   ]
  },
  {
   "cell_type": "code",
   "execution_count": 35,
   "metadata": {},
   "outputs": [
    {
     "data": {
      "text/plain": [
       "[<matplotlib.lines.Line2D at 0x7ff0423e5710>]"
      ]
     },
     "execution_count": 35,
     "metadata": {},
     "output_type": "execute_result"
    },
    {
     "data": {
      "image/png": "[encoded data removed]",
      "text/plain": [
       "<matplotlib.figure.Figure at 0x7ff08bba9438>"
      ]
     },
     "metadata": {},
     "output_type": "display_data"
    }
   ],
   "source": [
    "fig = plt.figure(figsize=(15, 5))\n",
    "ax = fig.add_subplot(1, 2, 1)\n",
    "ax.plot(accuracies_minibatch[1:], '-ob')\n",
    "ax.plot(accuracies_validation[1:], '-og')\n",
    "ax.legend(['% acc minibatch', '% acc validation'])\n",
    "ax2 = fig.add_subplot(1, 2, 2)\n",
    "ax2.plot(losses[1:])"
   ]
  },
  {
   "cell_type": "markdown",
   "metadata": {},
   "source": [
    "### Let's check how the decay varies with different decay rates"
   ]
  },
  {
   "cell_type": "code",
   "execution_count": 26,
   "metadata": {},
   "outputs": [],
   "source": [
    "import numpy as np"
   ]
  },
  {
   "cell_type": "code",
   "execution_count": 40,
   "metadata": {},
   "outputs": [
    {
     "data": {
      "text/plain": [
       "<matplotlib.legend.Legend at 0x7ff0423f3f60>"
      ]
     },
     "execution_count": 40,
     "metadata": {},
     "output_type": "execute_result"
    },
    {
     "data": {
      "image/png": "[encoded data removed]",
      "text/plain": [
       "<matplotlib.figure.Figure at 0x7ff0423f3198>"
      ]
     },
     "metadata": {},
     "output_type": "display_data"
    }
   ],
   "source": [
    "steps = np.arange(10000)\n",
    "decay_rates = list(np.arange(5, 10)/10)\n",
    "num_steps = 1000\n",
    "for decay_rate in decay_rates:\n",
    "    decayed_learning_rate = 0.5 * decay_rate**(steps / num_steps)\n",
    "    plt.plot(decayed_learning_rate)\n",
    "plt.legend(decay_rates)"
   ]
  },
  {
   "cell_type": "code",
   "execution_count": null,
   "metadata": {},
   "outputs": [],
   "source": []
  }
 ],
 "metadata": {
  "colab": {
   "default_view": {},
   "name": "3_regularization.ipynb",
   "provenance": [],
   "version": "0.3.2",
   "views": {}
  },
  "kernelspec": {
   "display_name": "Python 3",
   "language": "python",
   "name": "python3"
  },
  "language_info": {
   "codemirror_mode": {
    "name": "ipython",
    "version": 3
   },
   "file_extension": ".py",
   "mimetype": "text/x-python",
   "name": "python",
   "nbconvert_exporter": "python",
   "pygments_lexer": "ipython3",
   "version": "3.6.3"
  }
 },
 "nbformat": 4,
 "nbformat_minor": 1
}
